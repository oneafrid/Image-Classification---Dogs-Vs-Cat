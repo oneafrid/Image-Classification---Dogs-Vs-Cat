{
  "nbformat": 4,
  "nbformat_minor": 0,
  "metadata": {
    "colab": {
      "name": "Image Classification Dog-Cat.ipynb",
      "provenance": [],
      "collapsed_sections": []
    },
    "kernelspec": {
      "name": "python3",
      "display_name": "Python 3"
    },
    "accelerator": "GPU"
  },
  "cells": [
    {
      "cell_type": "code",
      "metadata": {
        "id": "VHssTGoocgxE",
        "colab_type": "code",
        "colab": {}
      },
      "source": [
        "# Importing Necesaary Library\n",
        "import glob\n",
        "import numpy as np\n",
        "from pathlib import Path\n",
        "from PIL import Image\n",
        "import matplotlib.pyplot as plt"
      ],
      "execution_count": 0,
      "outputs": []
    },
    {
      "cell_type": "code",
      "metadata": {
        "id": "ErQ9Twf_dG5J",
        "colab_type": "code",
        "colab": {}
      },
      "source": [
        "# Obtaining raw path of the images from Drive\n",
        "dog_file_path = Path('/content/drive/My Drive/Colab Notebooks/Pet_Images/dogs')\n",
        "cat_file_path = Path('/content/drive/My Drive/Colab Notebooks/Pet_Images/cats')"
      ],
      "execution_count": 0,
      "outputs": []
    },
    {
      "cell_type": "code",
      "metadata": {
        "id": "cs5s5vA5TbYz",
        "colab_type": "code",
        "colab": {}
      },
      "source": [
        "# Function to remove all the EXIF data and save the image to new path\n",
        "# def remove_EXIF(image, path, image_index):\n",
        "#   image = Image.open(image).convert('RGB')\n",
        "#   # next 3 lines strip exif\n",
        "#   data = list(image.getdata())\n",
        "#   image_without_exif = Image.new(image.mode, image.size)\n",
        "#   image_without_exif.putdata(data)\n",
        "#   image_without_exif.save(path + '{}.jpg'.format(image_index))\n",
        "\n",
        "# for index, image in enumerate(dog_files):\n",
        "#   if index < 1501:\n",
        "#     remove_EXIF(image, '/content/drive/My Drive/Colab Notebooks/Pet_Images/dogs/', index)\n",
        "\n",
        "# for index, image in enumerate(cat_files):\n",
        "#   if index < 1501:\n",
        "#     remove_EXIF(image, '/content/drive/My Drive/Colab Notebooks/Pet_Images/cats/', index)"
      ],
      "execution_count": 0,
      "outputs": []
    },
    {
      "cell_type": "code",
      "metadata": {
        "id": "v-mH6UA4emVj",
        "colab_type": "code",
        "outputId": "82f374ac-1a99-4673-bc0e-23a33f043b09",
        "colab": {
          "base_uri": "https://localhost:8080/",
          "height": 34
        }
      },
      "source": [
        "# Reading the JPG File\n",
        "dog_files = [dog for dog in dog_file_path.glob('*.jpg')]\n",
        "cat_files = [cat for cat in cat_file_path.glob('*.jpg')]\n",
        "len(dog_files), len(cat_files)"
      ],
      "execution_count": 0,
      "outputs": [
        {
          "output_type": "execute_result",
          "data": {
            "text/plain": [
              "(1501, 1501)"
            ]
          },
          "metadata": {
            "tags": []
          },
          "execution_count": 4
        }
      ]
    },
    {
      "cell_type": "code",
      "metadata": {
        "id": "g0sWLSlFfCNl",
        "colab_type": "code",
        "outputId": "4ef60347-5bb6-4ff9-ec83-d5e0e5c01b67",
        "colab": {
          "base_uri": "https://localhost:8080/",
          "height": 51
        }
      },
      "source": [
        "# Splitting the data into train & validation dataset\n",
        "train_size = 1000\n",
        "validation_size = 500\n",
        "dog_train = np.random.choice(dog_files, size=train_size, replace=False)\n",
        "cat_train = np.random.choice(cat_files, size=train_size, replace=False)\n",
        "\n",
        "dog_files = list(set(dog_files) - (set(dog_train)))\n",
        "cat_files = list(set(cat_files) - (set(cat_train)))\n",
        "\n",
        "dog_validation = np.random.choice(dog_files, size=validation_size, replace=False)\n",
        "cat_validation = np.random.choice(cat_files, size=validation_size, replace=False)\n",
        "\n",
        "print('Dog datasets: ', dog_train.shape, dog_validation.shape)\n",
        "print('Cat datasets: ', cat_train.shape, cat_validation.shape)"
      ],
      "execution_count": 0,
      "outputs": [
        {
          "output_type": "stream",
          "text": [
            "Dog datasets:  (1000,) (500,)\n",
            "Cat datasets:  (1000,) (500,)\n"
          ],
          "name": "stdout"
        }
      ]
    },
    {
      "cell_type": "code",
      "metadata": {
        "id": "Z5xBJgu1j9CJ",
        "colab_type": "code",
        "outputId": "cb7be700-c094-4d6c-f7c2-bdb79e58c55d",
        "colab": {
          "base_uri": "https://localhost:8080/",
          "height": 80
        }
      },
      "source": [
        "# Importing DL Library\n",
        "from keras.preprocessing.image import ImageDataGenerator, img_to_array, load_img"
      ],
      "execution_count": 0,
      "outputs": [
        {
          "output_type": "stream",
          "text": [
            "Using TensorFlow backend.\n"
          ],
          "name": "stderr"
        },
        {
          "output_type": "display_data",
          "data": {
            "text/html": [
              "<p style=\"color: red;\">\n",
              "The default version of TensorFlow in Colab will soon switch to TensorFlow 2.x.<br>\n",
              "We recommend you <a href=\"https://www.tensorflow.org/guide/migrate\" target=\"_blank\">upgrade</a> now \n",
              "or ensure your notebook will continue to use TensorFlow 1.x via the <code>%tensorflow_version 1.x</code> magic:\n",
              "<a href=\"https://colab.research.google.com/notebooks/tensorflow_version.ipynb\" target=\"_blank\">more info</a>.</p>\n"
            ],
            "text/plain": [
              "<IPython.core.display.HTML object>"
            ]
          },
          "metadata": {
            "tags": []
          }
        }
      ]
    },
    {
      "cell_type": "code",
      "metadata": {
        "id": "BYHeFAZlpfXU",
        "colab_type": "code",
        "colab": {}
      },
      "source": [
        "# Preprocessing Image\n",
        "dog_train_images = [img_to_array(load_img(img, target_size=(150, 150))) for img in dog_train]\n",
        "dog_train_images = np.array(dog_train_images)\n",
        "dog_train_labels = [1 for i in range(len(dog_train_images))]"
      ],
      "execution_count": 0,
      "outputs": []
    },
    {
      "cell_type": "code",
      "metadata": {
        "id": "hTzbstGDlC-1",
        "colab_type": "code",
        "colab": {}
      },
      "source": [
        "# Preprocessing Image\n",
        "cat_train_images = [img_to_array(load_img(img, target_size=(150, 150))) for img in cat_train]\n",
        "cat_train_images = np.array(cat_train_images)\n",
        "cat_train_labels = [0 for i in range(len(cat_train_images))]"
      ],
      "execution_count": 0,
      "outputs": []
    },
    {
      "cell_type": "code",
      "metadata": {
        "id": "mMCMdX5VlnQw",
        "colab_type": "code",
        "colab": {}
      },
      "source": [
        "# Preprocessing Image\n",
        "train_images = np.concatenate([dog_train_images, cat_train_images])\n",
        "train_labels = np.concatenate([dog_train_labels, cat_train_labels])"
      ],
      "execution_count": 0,
      "outputs": []
    },
    {
      "cell_type": "code",
      "metadata": {
        "id": "qIbdmJe6nM-M",
        "colab_type": "code",
        "colab": {}
      },
      "source": [
        "# Preprocessing Image\n",
        "dog_validation_images = [img_to_array(load_img(img, target_size=(150, 150))) for img in dog_validation]\n",
        "dog_validation_images = np.array(dog_validation_images)\n",
        "dog_validation_labels = [1 for i in range(len(dog_validation_images))]"
      ],
      "execution_count": 0,
      "outputs": []
    },
    {
      "cell_type": "code",
      "metadata": {
        "id": "8Dz97w8Enql4",
        "colab_type": "code",
        "colab": {}
      },
      "source": [
        "# Preprocessing Image\n",
        "cat_validation_images = [img_to_array(load_img(img, target_size=(150, 150))) for img in cat_validation]\n",
        "cat_validation_images = np.array(cat_validation_images)\n",
        "cat_validation_labels = [0 for i in range(len(cat_validation_images))]"
      ],
      "execution_count": 0,
      "outputs": []
    },
    {
      "cell_type": "code",
      "metadata": {
        "id": "-fOZtH7nnvYQ",
        "colab_type": "code",
        "colab": {}
      },
      "source": [
        "# Preprocessing Image\n",
        "validation_images = np.concatenate([dog_validation_images, cat_validation_images])\n",
        "validation_labels = np.concatenate([dog_validation_labels, cat_validation_labels])"
      ],
      "execution_count": 0,
      "outputs": []
    },
    {
      "cell_type": "code",
      "metadata": {
        "id": "zQsdF5t0oChC",
        "colab_type": "code",
        "outputId": "41c37df6-0d02-4cbe-e8a3-d5a71c77789b",
        "colab": {
          "base_uri": "https://localhost:8080/",
          "height": 51
        }
      },
      "source": [
        "print('Train Images:', train_images.shape, train_labels.shape)\n",
        "print('Validation Images:', validation_images.shape, validation_labels.shape)"
      ],
      "execution_count": 0,
      "outputs": [
        {
          "output_type": "stream",
          "text": [
            "Train Images: (2000, 150, 150, 3) (2000,)\n",
            "Validation Images: (1000, 150, 150, 3) (1000,)\n"
          ],
          "name": "stdout"
        }
      ]
    },
    {
      "cell_type": "code",
      "metadata": {
        "id": "6txcxS7S2viv",
        "colab_type": "code",
        "colab": {}
      },
      "source": [
        "# Scaling the Image features\n",
        "train_images_scaled = train_images.astype('float32')\n",
        "train_images_scaled /= 255\n",
        "\n",
        "validation_images_scaled = validation_images.astype('float32')\n",
        "validation_images_scaled /= 255"
      ],
      "execution_count": 0,
      "outputs": []
    },
    {
      "cell_type": "code",
      "metadata": {
        "id": "jtJJjjaz3UHy",
        "colab_type": "code",
        "outputId": "e697dcdb-1582-4acf-c72c-1df11dd0a493",
        "colab": {
          "base_uri": "https://localhost:8080/",
          "height": 34
        }
      },
      "source": [
        "print(train_images[0].shape)"
      ],
      "execution_count": 0,
      "outputs": [
        {
          "output_type": "stream",
          "text": [
            "(150, 150, 3)\n"
          ],
          "name": "stdout"
        }
      ]
    },
    {
      "cell_type": "code",
      "metadata": {
        "id": "o2no_c-x8iZ8",
        "colab_type": "code",
        "colab": {}
      },
      "source": [
        "# Augmenting the Imges for better prediction & learning as well\n",
        "train_datagen = ImageDataGenerator(rescale=1./255, zoom_range=0.3, rotation_range=50,\n",
        "                                   width_shift_range=0.2, height_shift_range=0.2, shear_range=0.2, \n",
        "                                   horizontal_flip=True, fill_mode='nearest')\n",
        "\n",
        "val_datagen = ImageDataGenerator(rescale=1./255)"
      ],
      "execution_count": 0,
      "outputs": []
    },
    {
      "cell_type": "code",
      "metadata": {
        "id": "gmLOmiZ98oVw",
        "colab_type": "code",
        "colab": {}
      },
      "source": [
        "# Fitting the data with augmentation\n",
        "train_generator = train_datagen.flow(train_images, train_labels, batch_size=30)\n",
        "val_generator = val_datagen.flow(validation_images, validation_labels, batch_size=20)"
      ],
      "execution_count": 0,
      "outputs": []
    },
    {
      "cell_type": "code",
      "metadata": {
        "id": "imSkKqsb5lPl",
        "colab_type": "code",
        "colab": {}
      },
      "source": [
        "# Import DL Libraries\n",
        "from keras.applications import vgg16\n",
        "from keras.models import Model\n",
        "import keras"
      ],
      "execution_count": 0,
      "outputs": []
    },
    {
      "cell_type": "code",
      "metadata": {
        "id": "i3RKutTp_qN8",
        "colab_type": "code",
        "outputId": "69f77104-7030-4d59-fead-4ecd3a7ccc5f",
        "colab": {
          "base_uri": "https://localhost:8080/",
          "height": 377
        }
      },
      "source": [
        "# Transfer Learning\n",
        "vgg = vgg16.VGG16(include_top=False, weights='imagenet', input_shape=(150, 150, 3))\n",
        "\n",
        "output = vgg.layers[-1].output\n",
        "output = keras.layers.Flatten()(output)\n",
        "vgg_model = Model(vgg.input, output)\n",
        "\n",
        "vgg_model.trainable = False\n",
        "for layer in vgg_model.layers:\n",
        "    layer.trainable = False"
      ],
      "execution_count": 0,
      "outputs": [
        {
          "output_type": "stream",
          "text": [
            "WARNING:tensorflow:From /usr/local/lib/python3.6/dist-packages/keras/backend/tensorflow_backend.py:66: The name tf.get_default_graph is deprecated. Please use tf.compat.v1.get_default_graph instead.\n",
            "\n",
            "WARNING:tensorflow:From /usr/local/lib/python3.6/dist-packages/keras/backend/tensorflow_backend.py:541: The name tf.placeholder is deprecated. Please use tf.compat.v1.placeholder instead.\n",
            "\n",
            "WARNING:tensorflow:From /usr/local/lib/python3.6/dist-packages/keras/backend/tensorflow_backend.py:4432: The name tf.random_uniform is deprecated. Please use tf.random.uniform instead.\n",
            "\n",
            "WARNING:tensorflow:From /usr/local/lib/python3.6/dist-packages/keras/backend/tensorflow_backend.py:4267: The name tf.nn.max_pool is deprecated. Please use tf.nn.max_pool2d instead.\n",
            "\n",
            "WARNING:tensorflow:From /usr/local/lib/python3.6/dist-packages/keras/backend/tensorflow_backend.py:190: The name tf.get_default_session is deprecated. Please use tf.compat.v1.get_default_session instead.\n",
            "\n",
            "WARNING:tensorflow:From /usr/local/lib/python3.6/dist-packages/keras/backend/tensorflow_backend.py:197: The name tf.ConfigProto is deprecated. Please use tf.compat.v1.ConfigProto instead.\n",
            "\n",
            "WARNING:tensorflow:From /usr/local/lib/python3.6/dist-packages/keras/backend/tensorflow_backend.py:203: The name tf.Session is deprecated. Please use tf.compat.v1.Session instead.\n",
            "\n",
            "WARNING:tensorflow:From /usr/local/lib/python3.6/dist-packages/keras/backend/tensorflow_backend.py:207: The name tf.global_variables is deprecated. Please use tf.compat.v1.global_variables instead.\n",
            "\n",
            "WARNING:tensorflow:From /usr/local/lib/python3.6/dist-packages/keras/backend/tensorflow_backend.py:216: The name tf.is_variable_initialized is deprecated. Please use tf.compat.v1.is_variable_initialized instead.\n",
            "\n",
            "WARNING:tensorflow:From /usr/local/lib/python3.6/dist-packages/keras/backend/tensorflow_backend.py:223: The name tf.variables_initializer is deprecated. Please use tf.compat.v1.variables_initializer instead.\n",
            "\n"
          ],
          "name": "stdout"
        }
      ]
    },
    {
      "cell_type": "code",
      "metadata": {
        "id": "9ENuA_XwAQxz",
        "colab_type": "code",
        "colab": {}
      },
      "source": [
        "# Importing DL Libraries\n",
        "from keras.layers import Conv2D, MaxPooling2D, Flatten, Dense, Dropout, InputLayer\n",
        "from keras.models import Sequential\n",
        "from keras import optimizers"
      ],
      "execution_count": 0,
      "outputs": []
    },
    {
      "cell_type": "code",
      "metadata": {
        "id": "mFl0C8JdBJe-",
        "colab_type": "code",
        "outputId": "620f535a-4b18-451e-b112-11a50c662d41",
        "colab": {
          "base_uri": "https://localhost:8080/",
          "height": 1000
        }
      },
      "source": [
        "# Model Building\n",
        "model = Sequential()\n",
        "model.add(vgg_model)\n",
        "model.add(Dense(512, activation='relu', input_dim=(150, 150, 3)))\n",
        "model.add(Dropout(0.3))\n",
        "model.add(Dense(512, activation='relu'))\n",
        "model.add(Dropout(0.3))\n",
        "model.add(Dense(1, activation='sigmoid'))\n",
        "\n",
        "model.compile(loss='binary_crossentropy',\n",
        "              optimizer='adam',\n",
        "              metrics=['accuracy'])\n",
        "              \n",
        "history = model.fit_generator(train_generator, steps_per_epoch=100, epochs=30,\n",
        "                              validation_data=val_generator, validation_steps=50, \n",
        "                              verbose=1)"
      ],
      "execution_count": 0,
      "outputs": [
        {
          "output_type": "stream",
          "text": [
            "WARNING:tensorflow:From /usr/local/lib/python3.6/dist-packages/keras/backend/tensorflow_backend.py:148: The name tf.placeholder_with_default is deprecated. Please use tf.compat.v1.placeholder_with_default instead.\n",
            "\n",
            "WARNING:tensorflow:From /usr/local/lib/python3.6/dist-packages/keras/backend/tensorflow_backend.py:3733: calling dropout (from tensorflow.python.ops.nn_ops) with keep_prob is deprecated and will be removed in a future version.\n",
            "Instructions for updating:\n",
            "Please use `rate` instead of `keep_prob`. Rate should be set to `rate = 1 - keep_prob`.\n",
            "WARNING:tensorflow:From /usr/local/lib/python3.6/dist-packages/keras/optimizers.py:793: The name tf.train.Optimizer is deprecated. Please use tf.compat.v1.train.Optimizer instead.\n",
            "\n",
            "WARNING:tensorflow:From /usr/local/lib/python3.6/dist-packages/keras/backend/tensorflow_backend.py:3657: The name tf.log is deprecated. Please use tf.math.log instead.\n",
            "\n",
            "WARNING:tensorflow:From /usr/local/lib/python3.6/dist-packages/tensorflow_core/python/ops/nn_impl.py:183: where (from tensorflow.python.ops.array_ops) is deprecated and will be removed in a future version.\n",
            "Instructions for updating:\n",
            "Use tf.where in 2.0, which has the same broadcast rule as np.where\n",
            "WARNING:tensorflow:From /usr/local/lib/python3.6/dist-packages/keras/backend/tensorflow_backend.py:1033: The name tf.assign_add is deprecated. Please use tf.compat.v1.assign_add instead.\n",
            "\n",
            "WARNING:tensorflow:From /usr/local/lib/python3.6/dist-packages/keras/backend/tensorflow_backend.py:1020: The name tf.assign is deprecated. Please use tf.compat.v1.assign instead.\n",
            "\n",
            "Epoch 1/30\n",
            "100/100 [==============================] - 33s 332ms/step - loss: 0.6452 - acc: 0.6857 - val_loss: 0.2962 - val_acc: 0.8710\n",
            "Epoch 2/30\n",
            "100/100 [==============================] - 27s 266ms/step - loss: 0.4317 - acc: 0.7948 - val_loss: 0.2851 - val_acc: 0.8600\n",
            "Epoch 3/30\n",
            "100/100 [==============================] - 28s 284ms/step - loss: 0.4200 - acc: 0.7873 - val_loss: 0.2985 - val_acc: 0.8520\n",
            "Epoch 4/30\n",
            "100/100 [==============================] - 27s 270ms/step - loss: 0.4180 - acc: 0.7975 - val_loss: 0.2703 - val_acc: 0.8870\n",
            "Epoch 5/30\n",
            "100/100 [==============================] - 28s 282ms/step - loss: 0.3890 - acc: 0.8190 - val_loss: 0.2666 - val_acc: 0.8770\n",
            "Epoch 6/30\n",
            "100/100 [==============================] - 28s 276ms/step - loss: 0.3776 - acc: 0.8303 - val_loss: 0.2549 - val_acc: 0.8760\n",
            "Epoch 7/30\n",
            "100/100 [==============================] - 28s 281ms/step - loss: 0.3931 - acc: 0.8178 - val_loss: 0.2712 - val_acc: 0.8730\n",
            "Epoch 8/30\n",
            "100/100 [==============================] - 27s 270ms/step - loss: 0.3702 - acc: 0.8335 - val_loss: 0.2566 - val_acc: 0.8770\n",
            "Epoch 9/30\n",
            "100/100 [==============================] - 28s 277ms/step - loss: 0.3486 - acc: 0.8402 - val_loss: 0.2531 - val_acc: 0.8890\n",
            "Epoch 10/30\n",
            "100/100 [==============================] - 27s 273ms/step - loss: 0.3744 - acc: 0.8322 - val_loss: 0.2598 - val_acc: 0.8860\n",
            "Epoch 11/30\n",
            "100/100 [==============================] - 29s 290ms/step - loss: 0.3676 - acc: 0.8320 - val_loss: 0.2561 - val_acc: 0.8790\n",
            "Epoch 12/30\n",
            "100/100 [==============================] - 27s 269ms/step - loss: 0.3627 - acc: 0.8352 - val_loss: 0.2520 - val_acc: 0.8820\n",
            "Epoch 13/30\n",
            "100/100 [==============================] - 28s 280ms/step - loss: 0.3458 - acc: 0.8452 - val_loss: 0.2468 - val_acc: 0.8850\n",
            "Epoch 14/30\n",
            "100/100 [==============================] - 26s 265ms/step - loss: 0.3362 - acc: 0.8428 - val_loss: 0.2468 - val_acc: 0.8840\n",
            "Epoch 15/30\n",
            "100/100 [==============================] - 28s 283ms/step - loss: 0.3683 - acc: 0.8300 - val_loss: 0.2648 - val_acc: 0.8760\n",
            "Epoch 16/30\n",
            "100/100 [==============================] - 27s 268ms/step - loss: 0.3443 - acc: 0.8415 - val_loss: 0.2542 - val_acc: 0.8870\n",
            "Epoch 17/30\n",
            "100/100 [==============================] - 28s 280ms/step - loss: 0.3433 - acc: 0.8470 - val_loss: 0.2652 - val_acc: 0.8770\n",
            "Epoch 18/30\n",
            "100/100 [==============================] - 27s 268ms/step - loss: 0.3381 - acc: 0.8517 - val_loss: 0.2506 - val_acc: 0.8880\n",
            "Epoch 19/30\n",
            "100/100 [==============================] - 28s 278ms/step - loss: 0.3391 - acc: 0.8450 - val_loss: 0.2632 - val_acc: 0.8760\n",
            "Epoch 20/30\n",
            "100/100 [==============================] - 27s 271ms/step - loss: 0.3316 - acc: 0.8447 - val_loss: 0.2410 - val_acc: 0.8920\n",
            "Epoch 21/30\n",
            "100/100 [==============================] - 28s 278ms/step - loss: 0.3245 - acc: 0.8563 - val_loss: 0.2486 - val_acc: 0.8870\n",
            "Epoch 22/30\n",
            "100/100 [==============================] - 26s 264ms/step - loss: 0.3402 - acc: 0.8500 - val_loss: 0.2400 - val_acc: 0.8870\n",
            "Epoch 23/30\n",
            "100/100 [==============================] - 27s 274ms/step - loss: 0.3160 - acc: 0.8582 - val_loss: 0.2497 - val_acc: 0.8890\n",
            "Epoch 24/30\n",
            "100/100 [==============================] - 27s 269ms/step - loss: 0.3212 - acc: 0.8620 - val_loss: 0.2384 - val_acc: 0.8900\n",
            "Epoch 25/30\n",
            "100/100 [==============================] - 28s 278ms/step - loss: 0.3184 - acc: 0.8573 - val_loss: 0.2427 - val_acc: 0.8860\n",
            "Epoch 26/30\n",
            "100/100 [==============================] - 26s 265ms/step - loss: 0.3251 - acc: 0.8518 - val_loss: 0.2377 - val_acc: 0.8940\n",
            "Epoch 27/30\n",
            "100/100 [==============================] - 28s 279ms/step - loss: 0.3093 - acc: 0.8577 - val_loss: 0.2510 - val_acc: 0.8780\n",
            "Epoch 28/30\n",
            "100/100 [==============================] - 27s 268ms/step - loss: 0.3130 - acc: 0.8662 - val_loss: 0.2403 - val_acc: 0.8900\n",
            "Epoch 29/30\n",
            "100/100 [==============================] - 28s 283ms/step - loss: 0.3125 - acc: 0.8583 - val_loss: 0.2308 - val_acc: 0.9000\n",
            "Epoch 30/30\n",
            "100/100 [==============================] - 27s 270ms/step - loss: 0.3140 - acc: 0.8600 - val_loss: 0.2329 - val_acc: 0.8910\n"
          ],
          "name": "stdout"
        }
      ]
    },
    {
      "cell_type": "code",
      "metadata": {
        "id": "ZiFCcefpFpet",
        "colab_type": "code",
        "outputId": "507b178b-ad52-42c2-be49-3ba5b113096b",
        "colab": {
          "base_uri": "https://localhost:8080/",
          "height": 308
        }
      },
      "source": [
        "# Plotting The accuarcy & loss of train & validation data\n",
        "f, (ax1, ax2) = plt.subplots(1, 2, figsize=(12, 4))\n",
        "t = f.suptitle('Basic CNN Performance', fontsize=12)\n",
        "f.subplots_adjust(top=0.85, wspace=0.3)\n",
        "\n",
        "epoch_list = list(range(1,31))\n",
        "ax1.plot(epoch_list, history.history['acc'], label='Train Accuracy')\n",
        "ax1.plot(epoch_list, history.history['val_acc'], label='Validation Accuracy')\n",
        "ax1.set_xticks(np.arange(0, 21, 5))\n",
        "ax1.set_ylabel('Accuracy Value')\n",
        "ax1.set_xlabel('Epoch')\n",
        "ax1.set_title('Accuracy')\n",
        "l1 = ax1.legend(loc=\"best\")\n",
        "\n",
        "ax2.plot(epoch_list, history.history['loss'], label='Train Loss')\n",
        "ax2.plot(epoch_list, history.history['val_loss'], label='Validation Loss')\n",
        "ax2.set_xticks(np.arange(0, 21, 5))\n",
        "ax2.set_ylabel('Loss Value')\n",
        "ax2.set_xlabel('Epoch')\n",
        "ax2.set_title('Loss')\n",
        "l2 = ax2.legend(loc=\"best\")"
      ],
      "execution_count": 0,
      "outputs": [
        {
          "output_type": "display_data",
          "data": {
            "image/png": "[encoded data removed]",
            "text/plain": [
              "<Figure size 864x288 with 2 Axes>"
            ]
          },
          "metadata": {
            "tags": []
          }
        }
      ]
    }
  ]
}